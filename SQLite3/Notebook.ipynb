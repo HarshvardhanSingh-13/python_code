{
 "cells": [
  {
   "cell_type": "code",
   "execution_count": 4,
   "metadata": {},
   "outputs": [],
   "source": [
    "import sqlite3"
   ]
  },
  {
   "cell_type": "code",
   "execution_count": 5,
   "metadata": {},
   "outputs": [
    {
     "data": {
      "text/plain": [
       "<sqlite3.Connection at 0x11ac854e0>"
      ]
     },
     "execution_count": 5,
     "metadata": {},
     "output_type": "execute_result"
    }
   ],
   "source": [
    "# Connect to a SQLite database\n",
    "\n",
    "connection = sqlite3.connect('example.db')\n",
    "connection"
   ]
  },
  {
   "cell_type": "code",
   "execution_count": 6,
   "metadata": {},
   "outputs": [],
   "source": [
    "cursor = connection.cursor()"
   ]
  },
  {
   "cell_type": "code",
   "execution_count": 7,
   "metadata": {},
   "outputs": [],
   "source": [
    "## Create a table\n",
    "\n",
    "cursor.execute('''\n",
    "Create Table If Not Exists employees(\n",
    "    id Integer PRIMARY KEY,\n",
    "    name Text NOT NULL,\n",
    "    age Integer,\n",
    "    department Text\n",
    ")\n",
    "''')\n",
    "\n",
    "## Commit the Changes\n",
    "connection.commit() "
   ]
  },
  {
   "cell_type": "code",
   "execution_count": 9,
   "metadata": {},
   "outputs": [
    {
     "data": {
      "text/plain": [
       "<sqlite3.Cursor at 0x11aa1d8c0>"
      ]
     },
     "execution_count": 9,
     "metadata": {},
     "output_type": "execute_result"
    }
   ],
   "source": [
    "cursor.execute('''\n",
    "Select * from employees\n",
    "'''    \n",
    ")"
   ]
  },
  {
   "cell_type": "code",
   "execution_count": 10,
   "metadata": {},
   "outputs": [],
   "source": [
    "# Insert the Data in SQLite Table\n",
    "\n",
    "cursor.execute('''\n",
    "Insert into employees(id, name, age, department)\n",
    "values(1,\"Harshvardhan\",23,\"Data Scientist\")\n",
    "''')\n",
    "\n",
    "cursor.execute('''\n",
    "Insert into employees(id, name, age, department)\n",
    "values(2,\"Yash\",24,\"Data Analyst\")\n",
    "''')\n",
    "\n",
    "cursor.execute('''\n",
    "Insert into employees(id, name, age, department)\n",
    "values(3,\"Diksha\",21,\"Finance\")\n",
    "''')\n",
    "\n",
    "cursor.execute('''\n",
    "Insert into employees(id, name, age, department)\n",
    "values(4,\"Vimal\",23,\"TCE\")\n",
    "''')\n",
    "\n",
    "## Commit\n",
    "\n",
    "connection.commit()"
   ]
  },
  {
   "cell_type": "code",
   "execution_count": 11,
   "metadata": {},
   "outputs": [
    {
     "name": "stdout",
     "output_type": "stream",
     "text": [
      "(1, 'Harshvardhan', 23, 'Data Scientist')\n",
      "(2, 'Yash', 24, 'Data Analyst')\n",
      "(3, 'Diksha', 21, 'Finance')\n",
      "(4, 'Vimal', 23, 'TCE')\n"
     ]
    }
   ],
   "source": [
    "## Query the Data from Table\n",
    "\n",
    "cursor.execute('Select * from employees')\n",
    "rows = cursor.fetchall()\n",
    "\n",
    "## Print the Queries data \n",
    "\n",
    "for i in rows:\n",
    "    print(i)"
   ]
  },
  {
   "cell_type": "code",
   "execution_count": 12,
   "metadata": {},
   "outputs": [],
   "source": [
    "## Update the data in the table\n",
    "cursor.execute('''\n",
    "update employees\n",
    "set age=34\n",
    "where name = \"Yash\" \n",
    "''')\n",
    "\n",
    "connection.commit()"
   ]
  },
  {
   "cell_type": "code",
   "execution_count": 14,
   "metadata": {},
   "outputs": [
    {
     "name": "stdout",
     "output_type": "stream",
     "text": [
      "(1, 'Harshvardhan', 23, 'Data Scientist')\n",
      "(2, 'Yash', 34, 'Data Analyst')\n",
      "(3, 'Diksha', 21, 'Finance')\n",
      "(4, 'Vimal', 23, 'TCE')\n"
     ]
    }
   ],
   "source": [
    "cursor.execute(\"Select * from employees\")\n",
    "rows = cursor.fetchall()\n",
    "\n",
    "for i in rows:\n",
    "    print(i)"
   ]
  },
  {
   "cell_type": "code",
   "execution_count": 15,
   "metadata": {},
   "outputs": [],
   "source": [
    "## Delete the Data from the table\n",
    "\n",
    "cursor.execute('''\n",
    "delete from employees\n",
    "where name=\"Vimal\"\n",
    "''')\n",
    "\n",
    "connection.commit()"
   ]
  },
  {
   "cell_type": "code",
   "execution_count": 16,
   "metadata": {},
   "outputs": [
    {
     "name": "stdout",
     "output_type": "stream",
     "text": [
      "(1, 'Harshvardhan', 23, 'Data Scientist')\n",
      "(2, 'Yash', 34, 'Data Analyst')\n",
      "(3, 'Diksha', 21, 'Finance')\n"
     ]
    }
   ],
   "source": [
    "cursor.execute(\"Select * from employees\")\n",
    "rows = cursor.fetchall()\n",
    "\n",
    "for i in rows:\n",
    "    print(i)"
   ]
  },
  {
   "cell_type": "code",
   "execution_count": 17,
   "metadata": {},
   "outputs": [],
   "source": [
    "connection.close()"
   ]
  },
  {
   "cell_type": "code",
   "execution_count": null,
   "metadata": {},
   "outputs": [],
   "source": []
  }
 ],
 "metadata": {
  "kernelspec": {
   "display_name": ".venv",
   "language": "python",
   "name": "python3"
  },
  "language_info": {
   "codemirror_mode": {
    "name": "ipython",
    "version": 3
   },
   "file_extension": ".py",
   "mimetype": "text/x-python",
   "name": "python",
   "nbconvert_exporter": "python",
   "pygments_lexer": "ipython3",
   "version": "3.12.1"
  }
 },
 "nbformat": 4,
 "nbformat_minor": 2
}
